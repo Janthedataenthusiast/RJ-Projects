{
  "nbformat": 4,
  "nbformat_minor": 0,
  "metadata": {
    "colab": {
      "name": "Untitled.JANE",
      "provenance": []
    },
    "kernelspec": {
      "name": "python3",
      "display_name": "Python 3"
    },
    "language_info": {
      "name": "python"
    }
  },
  "cells": [
    {
      "cell_type": "markdown",
      "source": [
        "#Introduction"
      ],
      "metadata": {
        "id": "xXvNOm9tw0pi"
      }
    },
    {
      "cell_type": "code",
      "source": [
        " import pandas as pd\n",
        " import numpy as np\n",
        " import matplotlib.pyplot as plt\n",
        " import seaborn as sns\n",
        "\n",
        " "
      ],
      "metadata": {
        "id": "kKwQ4ATNxB7O"
      },
      "execution_count": 2,
      "outputs": []
    },
    {
      "cell_type": "markdown",
      "source": [
        "#Creating dataframes in Python\n"
      ],
      "metadata": {
        "id": "BAtsSpg-yke2"
      }
    },
    {
      "cell_type": "code",
      "source": [
        "radius = [1.0, 2.0, 3.0, 4.0]\n",
        "area = [3.14159, 12.56636, 28.27431, 50.26544]\n",
        "\n",
        "plt.plot(radius, area)\n",
        "plt.show()"
      ],
      "metadata": {
        "colab": {
          "base_uri": "https://localhost:8080/",
          "height": 265
        },
        "id": "ACbpiWxrytnj",
        "outputId": "f00f0f48-1990-4512-ce5b-0ab9478faa65"
      },
      "execution_count": 3,
      "outputs": [
        {
          "output_type": "display_data",
          "data": {
            "text/plain": [
              "<Figure size 432x288 with 1 Axes>"
            ],
            "image/png": "[encoded data removed]"
          },
          "metadata": {
            "needs_background": "light"
          }
        }
      ]
    },
    {
      "cell_type": "code",
      "source": [
        "dataset=pd.read_csv(\"/content/spatial data.csv\")"
      ],
      "metadata": {
        "id": "Ae7Dq_dj01ug"
      },
      "execution_count": 5,
      "outputs": []
    },
    {
      "cell_type": "code",
      "source": [
        "dataset.head()"
      ],
      "metadata": {
        "colab": {
          "base_uri": "https://localhost:8080/",
          "height": 206
        },
        "id": "jD4Ypu-81B8e",
        "outputId": "d6ba9956-92e9-4e4f-e519-51ef26b4e2db"
      },
      "execution_count": 6,
      "outputs": [
        {
          "output_type": "execute_result",
          "data": {
            "text/plain": [
              "   Name_enumerator Farmer District          Take GPs within First Box  \\\n",
              "0  FATSANI NYASULU         Kasungu  -13.0308778 33.476011 0.0 1399.99   \n",
              "1  FATSANI NYASULU         Kasungu  -13.0308778 33.476011 0.0 1399.99   \n",
              "2  Irene Mzokomera         Ntchisi  -13.1458815 33.8351606 0.0 3507.0   \n",
              "3  Irene Mzokomera         Ntchisi   -13.145581 33.8373945 0.0 2881.0   \n",
              "4  Irene Mzokomera         Ntchisi   -13.3430206 33.929934 0.0 3296.0   \n",
              "\n",
              "   Longitude_bp  Latitude_bp  \n",
              "0     33.476010  -13.0308778  \n",
              "1     33.476010  -13.0308778  \n",
              "2     33.835160  -13.1458815  \n",
              "3     33.837394   -13.145581  \n",
              "4     33.929930  -13.3430206  "
            ],
            "text/html": [
              "\n",
              "  <div id=\"df-9f832589-a87c-4819-878b-246c4a65ebdb\">\n",
              "    <div class=\"colab-df-container\">\n",
              "      <div>\n",
              "<style scoped>\n",
              "    .dataframe tbody tr th:only-of-type {\n",
              "        vertical-align: middle;\n",
              "    }\n",
              "\n",
              "    .dataframe tbody tr th {\n",
              "        vertical-align: top;\n",
              "    }\n",
              "\n",
              "    .dataframe thead th {\n",
              "        text-align: right;\n",
              "    }\n",
              "</style>\n",
              "<table border=\"1\" class=\"dataframe\">\n",
              "  <thead>\n",
              "    <tr style=\"text-align: right;\">\n",
              "      <th></th>\n",
              "      <th>Name_enumerator</th>\n",
              "      <th>Farmer District</th>\n",
              "      <th>Take GPs within First Box</th>\n",
              "      <th>Longitude_bp</th>\n",
              "      <th>Latitude_bp</th>\n",
              "    </tr>\n",
              "  </thead>\n",
              "  <tbody>\n",
              "    <tr>\n",
              "      <th>0</th>\n",
              "      <td>FATSANI NYASULU</td>\n",
              "      <td>Kasungu</td>\n",
              "      <td>-13.0308778 33.476011 0.0 1399.99</td>\n",
              "      <td>33.476010</td>\n",
              "      <td>-13.0308778</td>\n",
              "    </tr>\n",
              "    <tr>\n",
              "      <th>1</th>\n",
              "      <td>FATSANI NYASULU</td>\n",
              "      <td>Kasungu</td>\n",
              "      <td>-13.0308778 33.476011 0.0 1399.99</td>\n",
              "      <td>33.476010</td>\n",
              "      <td>-13.0308778</td>\n",
              "    </tr>\n",
              "    <tr>\n",
              "      <th>2</th>\n",
              "      <td>Irene Mzokomera</td>\n",
              "      <td>Ntchisi</td>\n",
              "      <td>-13.1458815 33.8351606 0.0 3507.0</td>\n",
              "      <td>33.835160</td>\n",
              "      <td>-13.1458815</td>\n",
              "    </tr>\n",
              "    <tr>\n",
              "      <th>3</th>\n",
              "      <td>Irene Mzokomera</td>\n",
              "      <td>Ntchisi</td>\n",
              "      <td>-13.145581 33.8373945 0.0 2881.0</td>\n",
              "      <td>33.837394</td>\n",
              "      <td>-13.145581</td>\n",
              "    </tr>\n",
              "    <tr>\n",
              "      <th>4</th>\n",
              "      <td>Irene Mzokomera</td>\n",
              "      <td>Ntchisi</td>\n",
              "      <td>-13.3430206 33.929934 0.0 3296.0</td>\n",
              "      <td>33.929930</td>\n",
              "      <td>-13.3430206</td>\n",
              "    </tr>\n",
              "  </tbody>\n",
              "</table>\n",
              "</div>\n",
              "      <button class=\"colab-df-convert\" onclick=\"convertToInteractive('df-9f832589-a87c-4819-878b-246c4a65ebdb')\"\n",
              "              title=\"Convert this dataframe to an interactive table.\"\n",
              "              style=\"display:none;\">\n",
              "        \n",
              "  <svg xmlns=\"http://www.w3.org/2000/svg\" height=\"24px\"viewBox=\"0 0 24 24\"\n",
              "       width=\"24px\">\n",
              "    <path d=\"M0 0h24v24H0V0z\" fill=\"none\"/>\n",
              "    <path d=\"M18.56 5.44l.94 2.06.94-2.06 2.06-.94-2.06-.94-.94-2.06-.94 2.06-2.06.94zm-11 1L8.5 8.5l.94-2.06 2.06-.94-2.06-.94L8.5 2.5l-.94 2.06-2.06.94zm10 10l.94 2.06.94-2.06 2.06-.94-2.06-.94-.94-2.06-.94 2.06-2.06.94z\"/><path d=\"M17.41 7.96l-1.37-1.37c-.4-.4-.92-.59-1.43-.59-.52 0-1.04.2-1.43.59L10.3 9.45l-7.72 7.72c-.78.78-.78 2.05 0 2.83L4 21.41c.39.39.9.59 1.41.59.51 0 1.02-.2 1.41-.59l7.78-7.78 2.81-2.81c.8-.78.8-2.07 0-2.86zM5.41 20L4 18.59l7.72-7.72 1.47 1.35L5.41 20z\"/>\n",
              "  </svg>\n",
              "      </button>\n",
              "      \n",
              "  <style>\n",
              "    .colab-df-container {\n",
              "      display:flex;\n",
              "      flex-wrap:wrap;\n",
              "      gap: 12px;\n",
              "    }\n",
              "\n",
              "    .colab-df-convert {\n",
              "      background-color: #E8F0FE;\n",
              "      border: none;\n",
              "      border-radius: 50%;\n",
              "      cursor: pointer;\n",
              "      display: none;\n",
              "      fill: #1967D2;\n",
              "      height: 32px;\n",
              "      padding: 0 0 0 0;\n",
              "      width: 32px;\n",
              "    }\n",
              "\n",
              "    .colab-df-convert:hover {\n",
              "      background-color: #E2EBFA;\n",
              "      box-shadow: 0px 1px 2px rgba(60, 64, 67, 0.3), 0px 1px 3px 1px rgba(60, 64, 67, 0.15);\n",
              "      fill: #174EA6;\n",
              "    }\n",
              "\n",
              "    [theme=dark] .colab-df-convert {\n",
              "      background-color: #3B4455;\n",
              "      fill: #D2E3FC;\n",
              "    }\n",
              "\n",
              "    [theme=dark] .colab-df-convert:hover {\n",
              "      background-color: #434B5C;\n",
              "      box-shadow: 0px 1px 3px 1px rgba(0, 0, 0, 0.15);\n",
              "      filter: drop-shadow(0px 1px 2px rgba(0, 0, 0, 0.3));\n",
              "      fill: #FFFFFF;\n",
              "    }\n",
              "  </style>\n",
              "\n",
              "      <script>\n",
              "        const buttonEl =\n",
              "          document.querySelector('#df-9f832589-a87c-4819-878b-246c4a65ebdb button.colab-df-convert');\n",
              "        buttonEl.style.display =\n",
              "          google.colab.kernel.accessAllowed ? 'block' : 'none';\n",
              "\n",
              "        async function convertToInteractive(key) {\n",
              "          const element = document.querySelector('#df-9f832589-a87c-4819-878b-246c4a65ebdb');\n",
              "          const dataTable =\n",
              "            await google.colab.kernel.invokeFunction('convertToInteractive',\n",
              "                                                     [key], {});\n",
              "          if (!dataTable) return;\n",
              "\n",
              "          const docLinkHtml = 'Like what you see? Visit the ' +\n",
              "            '<a target=\"_blank\" href=https://colab.research.google.com/notebooks/data_table.ipynb>data table notebook</a>'\n",
              "            + ' to learn more about interactive tables.';\n",
              "          element.innerHTML = '';\n",
              "          dataTable['output_type'] = 'display_data';\n",
              "          await google.colab.output.renderOutput(dataTable, element);\n",
              "          const docLink = document.createElement('div');\n",
              "          docLink.innerHTML = docLinkHtml;\n",
              "          element.appendChild(docLink);\n",
              "        }\n",
              "      </script>\n",
              "    </div>\n",
              "  </div>\n",
              "  "
            ]
          },
          "metadata": {},
          "execution_count": 6
        }
      ]
    },
    {
      "cell_type": "code",
      "source": [
        "dataset.tail()"
      ],
      "metadata": {
        "colab": {
          "base_uri": "https://localhost:8080/",
          "height": 206
        },
        "id": "aBLp_Gp81RHz",
        "outputId": "748d2bcb-b6d1-4a23-a548-45554c6ab7d9"
      },
      "execution_count": 7,
      "outputs": [
        {
          "output_type": "execute_result",
          "data": {
            "text/plain": [
              "     Name_enumerator Farmer District          Take GPs within First Box  \\\n",
              "121  Ireen Mzokomera         Ntchisi  -13.1401886 33.8313238 0.0 4441.0   \n",
              "122  Ireen Mzokomera         Ntchisi  -13.1451314 33.8353631 0.0 2536.0   \n",
              "123  Ireen Mzokomera         Ntchisi  -13.1451314 33.8353631 0.0 2536.0   \n",
              "124    kennedy phiri        Lilongwe   -13.8775902 33.7603276 0.0 400.0   \n",
              "125  Ireen Mzokomera         Ntchisi  -13.3525906 33.9186651 0.0 2183.0   \n",
              "\n",
              "     Longitude_bp  Latitude_bp  \n",
              "121      33.83132  -13.1401886  \n",
              "122      33.83536  -13.1451314  \n",
              "123      33.83536  -13.1451314  \n",
              "124      33.76032  -13.8775902  \n",
              "125      33.91866  -13.3525906  "
            ],
            "text/html": [
              "\n",
              "  <div id=\"df-3ac1e627-c2bd-48b7-aa06-e87046e6846d\">\n",
              "    <div class=\"colab-df-container\">\n",
              "      <div>\n",
              "<style scoped>\n",
              "    .dataframe tbody tr th:only-of-type {\n",
              "        vertical-align: middle;\n",
              "    }\n",
              "\n",
              "    .dataframe tbody tr th {\n",
              "        vertical-align: top;\n",
              "    }\n",
              "\n",
              "    .dataframe thead th {\n",
              "        text-align: right;\n",
              "    }\n",
              "</style>\n",
              "<table border=\"1\" class=\"dataframe\">\n",
              "  <thead>\n",
              "    <tr style=\"text-align: right;\">\n",
              "      <th></th>\n",
              "      <th>Name_enumerator</th>\n",
              "      <th>Farmer District</th>\n",
              "      <th>Take GPs within First Box</th>\n",
              "      <th>Longitude_bp</th>\n",
              "      <th>Latitude_bp</th>\n",
              "    </tr>\n",
              "  </thead>\n",
              "  <tbody>\n",
              "    <tr>\n",
              "      <th>121</th>\n",
              "      <td>Ireen Mzokomera</td>\n",
              "      <td>Ntchisi</td>\n",
              "      <td>-13.1401886 33.8313238 0.0 4441.0</td>\n",
              "      <td>33.83132</td>\n",
              "      <td>-13.1401886</td>\n",
              "    </tr>\n",
              "    <tr>\n",
              "      <th>122</th>\n",
              "      <td>Ireen Mzokomera</td>\n",
              "      <td>Ntchisi</td>\n",
              "      <td>-13.1451314 33.8353631 0.0 2536.0</td>\n",
              "      <td>33.83536</td>\n",
              "      <td>-13.1451314</td>\n",
              "    </tr>\n",
              "    <tr>\n",
              "      <th>123</th>\n",
              "      <td>Ireen Mzokomera</td>\n",
              "      <td>Ntchisi</td>\n",
              "      <td>-13.1451314 33.8353631 0.0 2536.0</td>\n",
              "      <td>33.83536</td>\n",
              "      <td>-13.1451314</td>\n",
              "    </tr>\n",
              "    <tr>\n",
              "      <th>124</th>\n",
              "      <td>kennedy phiri</td>\n",
              "      <td>Lilongwe</td>\n",
              "      <td>-13.8775902 33.7603276 0.0 400.0</td>\n",
              "      <td>33.76032</td>\n",
              "      <td>-13.8775902</td>\n",
              "    </tr>\n",
              "    <tr>\n",
              "      <th>125</th>\n",
              "      <td>Ireen Mzokomera</td>\n",
              "      <td>Ntchisi</td>\n",
              "      <td>-13.3525906 33.9186651 0.0 2183.0</td>\n",
              "      <td>33.91866</td>\n",
              "      <td>-13.3525906</td>\n",
              "    </tr>\n",
              "  </tbody>\n",
              "</table>\n",
              "</div>\n",
              "      <button class=\"colab-df-convert\" onclick=\"convertToInteractive('df-3ac1e627-c2bd-48b7-aa06-e87046e6846d')\"\n",
              "              title=\"Convert this dataframe to an interactive table.\"\n",
              "              style=\"display:none;\">\n",
              "        \n",
              "  <svg xmlns=\"http://www.w3.org/2000/svg\" height=\"24px\"viewBox=\"0 0 24 24\"\n",
              "       width=\"24px\">\n",
              "    <path d=\"M0 0h24v24H0V0z\" fill=\"none\"/>\n",
              "    <path d=\"M18.56 5.44l.94 2.06.94-2.06 2.06-.94-2.06-.94-.94-2.06-.94 2.06-2.06.94zm-11 1L8.5 8.5l.94-2.06 2.06-.94-2.06-.94L8.5 2.5l-.94 2.06-2.06.94zm10 10l.94 2.06.94-2.06 2.06-.94-2.06-.94-.94-2.06-.94 2.06-2.06.94z\"/><path d=\"M17.41 7.96l-1.37-1.37c-.4-.4-.92-.59-1.43-.59-.52 0-1.04.2-1.43.59L10.3 9.45l-7.72 7.72c-.78.78-.78 2.05 0 2.83L4 21.41c.39.39.9.59 1.41.59.51 0 1.02-.2 1.41-.59l7.78-7.78 2.81-2.81c.8-.78.8-2.07 0-2.86zM5.41 20L4 18.59l7.72-7.72 1.47 1.35L5.41 20z\"/>\n",
              "  </svg>\n",
              "      </button>\n",
              "      \n",
              "  <style>\n",
              "    .colab-df-container {\n",
              "      display:flex;\n",
              "      flex-wrap:wrap;\n",
              "      gap: 12px;\n",
              "    }\n",
              "\n",
              "    .colab-df-convert {\n",
              "      background-color: #E8F0FE;\n",
              "      border: none;\n",
              "      border-radius: 50%;\n",
              "      cursor: pointer;\n",
              "      display: none;\n",
              "      fill: #1967D2;\n",
              "      height: 32px;\n",
              "      padding: 0 0 0 0;\n",
              "      width: 32px;\n",
              "    }\n",
              "\n",
              "    .colab-df-convert:hover {\n",
              "      background-color: #E2EBFA;\n",
              "      box-shadow: 0px 1px 2px rgba(60, 64, 67, 0.3), 0px 1px 3px 1px rgba(60, 64, 67, 0.15);\n",
              "      fill: #174EA6;\n",
              "    }\n",
              "\n",
              "    [theme=dark] .colab-df-convert {\n",
              "      background-color: #3B4455;\n",
              "      fill: #D2E3FC;\n",
              "    }\n",
              "\n",
              "    [theme=dark] .colab-df-convert:hover {\n",
              "      background-color: #434B5C;\n",
              "      box-shadow: 0px 1px 3px 1px rgba(0, 0, 0, 0.15);\n",
              "      filter: drop-shadow(0px 1px 2px rgba(0, 0, 0, 0.3));\n",
              "      fill: #FFFFFF;\n",
              "    }\n",
              "  </style>\n",
              "\n",
              "      <script>\n",
              "        const buttonEl =\n",
              "          document.querySelector('#df-3ac1e627-c2bd-48b7-aa06-e87046e6846d button.colab-df-convert');\n",
              "        buttonEl.style.display =\n",
              "          google.colab.kernel.accessAllowed ? 'block' : 'none';\n",
              "\n",
              "        async function convertToInteractive(key) {\n",
              "          const element = document.querySelector('#df-3ac1e627-c2bd-48b7-aa06-e87046e6846d');\n",
              "          const dataTable =\n",
              "            await google.colab.kernel.invokeFunction('convertToInteractive',\n",
              "                                                     [key], {});\n",
              "          if (!dataTable) return;\n",
              "\n",
              "          const docLinkHtml = 'Like what you see? Visit the ' +\n",
              "            '<a target=\"_blank\" href=https://colab.research.google.com/notebooks/data_table.ipynb>data table notebook</a>'\n",
              "            + ' to learn more about interactive tables.';\n",
              "          element.innerHTML = '';\n",
              "          dataTable['output_type'] = 'display_data';\n",
              "          await google.colab.output.renderOutput(dataTable, element);\n",
              "          const docLink = document.createElement('div');\n",
              "          docLink.innerHTML = docLinkHtml;\n",
              "          element.appendChild(docLink);\n",
              "        }\n",
              "      </script>\n",
              "    </div>\n",
              "  </div>\n",
              "  "
            ]
          },
          "metadata": {},
          "execution_count": 7
        }
      ]
    },
    {
      "cell_type": "markdown",
      "source": [
        "# End"
      ],
      "metadata": {
        "id": "Y6bDL2YW1ahp"
      }
    }
  ]
}